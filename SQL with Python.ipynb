{
 "cells": [
  {
   "cell_type": "markdown",
   "id": "dabbd633-0d0a-4c73-96da-a3de79e35b8c",
   "metadata": {},
   "source": [
    "## SQL Integration with Python"
   ]
  },
  {
   "cell_type": "code",
   "execution_count": 87,
   "id": "41deb51b-24d4-4e70-b996-81ccdac41e45",
   "metadata": {},
   "outputs": [],
   "source": [
    "# Import libraries\n",
    "\n",
    "import sqlite3\n",
    "import pandas as pd\n",
    "import matplotlib.pyplot as plt\n",
    "import seaborn as sns"
   ]
  },
  {
   "cell_type": "code",
   "execution_count": 88,
   "id": "ff8bbe35-e200-4262-b321-639983b6505b",
   "metadata": {},
   "outputs": [],
   "source": [
    "# Create a connection to an in-memory SQLite DB\n",
    "\n",
    "conn = sqlite3.connect(':memory:') # temporal data for testing\n",
    "cursor = conn.cursor()"
   ]
  },
  {
   "cell_type": "code",
   "execution_count": 89,
   "id": "e641f7f3-ddd7-403a-b36b-102151662ae0",
   "metadata": {},
   "outputs": [
    {
     "data": {
      "text/plain": [
       "<sqlite3.Cursor at 0x1a93ea80140>"
      ]
     },
     "execution_count": 89,
     "metadata": {},
     "output_type": "execute_result"
    }
   ],
   "source": [
    "# Create a simple sales table\n",
    "\n",
    "cursor.execute('''\n",
    "CREATE TABLE sales (\n",
    "    sale_id INTEGER PRIMARY KEY,\n",
    "    product TEXT,\n",
    "    quantity INTEGER,\n",
    "    price REAL,\n",
    "    sale_date TEXT\n",
    ")\n",
    "''')"
   ]
  },
  {
   "cell_type": "code",
   "execution_count": 90,
   "id": "12d32f85-89ca-4940-a911-7edcb91510a9",
   "metadata": {},
   "outputs": [],
   "source": [
    "# Insert multiple rows into the sales table\n",
    "\n",
    "sales_data = [\n",
    "    (1, 'Laptop', 2, 1200.50, '2024-01-15'),\n",
    "    (2, 'Phone', 5, 650.00, '2024-01-16'),\n",
    "    (3, 'Tablet', 3, 400.25, '2024-01-17'),\n",
    "    (4, 'Laptop', 1, 1300.00, '2024-01-18'),\n",
    "    (5, 'Monitor', 4, 300.00, '2024-01-19')\n",
    "]\n",
    "\n",
    "cursor.executemany('''\n",
    "INSERT INTO sales (sale_id, product, quantity, price, sale_date)\n",
    "VALUES (?, ?, ?, ?, ?)\n",
    "''', sales_data)\n",
    "\n",
    "# Commit changes\n",
    "conn.commit()"
   ]
  },
  {
   "cell_type": "code",
   "execution_count": 91,
   "id": "ffdfb34d-c5b8-4b68-a7b5-3e2ab74aaa8e",
   "metadata": {},
   "outputs": [
    {
     "data": {
      "text/html": [
       "<div>\n",
       "<style scoped>\n",
       "    .dataframe tbody tr th:only-of-type {\n",
       "        vertical-align: middle;\n",
       "    }\n",
       "\n",
       "    .dataframe tbody tr th {\n",
       "        vertical-align: top;\n",
       "    }\n",
       "\n",
       "    .dataframe thead th {\n",
       "        text-align: right;\n",
       "    }\n",
       "</style>\n",
       "<table border=\"1\" class=\"dataframe\">\n",
       "  <thead>\n",
       "    <tr style=\"text-align: right;\">\n",
       "      <th></th>\n",
       "      <th>sale_id</th>\n",
       "      <th>product</th>\n",
       "      <th>quantity</th>\n",
       "      <th>price</th>\n",
       "      <th>sale_date</th>\n",
       "    </tr>\n",
       "  </thead>\n",
       "  <tbody>\n",
       "    <tr>\n",
       "      <th>0</th>\n",
       "      <td>1</td>\n",
       "      <td>Laptop</td>\n",
       "      <td>2</td>\n",
       "      <td>1200.50</td>\n",
       "      <td>2024-01-15</td>\n",
       "    </tr>\n",
       "    <tr>\n",
       "      <th>1</th>\n",
       "      <td>2</td>\n",
       "      <td>Phone</td>\n",
       "      <td>5</td>\n",
       "      <td>650.00</td>\n",
       "      <td>2024-01-16</td>\n",
       "    </tr>\n",
       "    <tr>\n",
       "      <th>2</th>\n",
       "      <td>3</td>\n",
       "      <td>Tablet</td>\n",
       "      <td>3</td>\n",
       "      <td>400.25</td>\n",
       "      <td>2024-01-17</td>\n",
       "    </tr>\n",
       "    <tr>\n",
       "      <th>3</th>\n",
       "      <td>4</td>\n",
       "      <td>Laptop</td>\n",
       "      <td>1</td>\n",
       "      <td>1300.00</td>\n",
       "      <td>2024-01-18</td>\n",
       "    </tr>\n",
       "    <tr>\n",
       "      <th>4</th>\n",
       "      <td>5</td>\n",
       "      <td>Monitor</td>\n",
       "      <td>4</td>\n",
       "      <td>300.00</td>\n",
       "      <td>2024-01-19</td>\n",
       "    </tr>\n",
       "  </tbody>\n",
       "</table>\n",
       "</div>"
      ],
      "text/plain": [
       "   sale_id  product  quantity    price   sale_date\n",
       "0        1   Laptop         2  1200.50  2024-01-15\n",
       "1        2    Phone         5   650.00  2024-01-16\n",
       "2        3   Tablet         3   400.25  2024-01-17\n",
       "3        4   Laptop         1  1300.00  2024-01-18\n",
       "4        5  Monitor         4   300.00  2024-01-19"
      ]
     },
     "execution_count": 91,
     "metadata": {},
     "output_type": "execute_result"
    }
   ],
   "source": [
    "# Query 1: Select all records\n",
    "\n",
    "query_all_sales = \"SELECT * FROM sales\"\n",
    "pd.read_sql(query_all_sales, conn)"
   ]
  },
  {
   "cell_type": "code",
   "execution_count": 92,
   "id": "e2206d08-5fb5-4a36-8ba5-da5b1dc398d7",
   "metadata": {},
   "outputs": [
    {
     "data": {
      "text/html": [
       "<div>\n",
       "<style scoped>\n",
       "    .dataframe tbody tr th:only-of-type {\n",
       "        vertical-align: middle;\n",
       "    }\n",
       "\n",
       "    .dataframe tbody tr th {\n",
       "        vertical-align: top;\n",
       "    }\n",
       "\n",
       "    .dataframe thead th {\n",
       "        text-align: right;\n",
       "    }\n",
       "</style>\n",
       "<table border=\"1\" class=\"dataframe\">\n",
       "  <thead>\n",
       "    <tr style=\"text-align: right;\">\n",
       "      <th></th>\n",
       "      <th>product</th>\n",
       "      <th>total_revenue</th>\n",
       "    </tr>\n",
       "  </thead>\n",
       "  <tbody>\n",
       "    <tr>\n",
       "      <th>0</th>\n",
       "      <td>Laptop</td>\n",
       "      <td>3701.00</td>\n",
       "    </tr>\n",
       "    <tr>\n",
       "      <th>1</th>\n",
       "      <td>Monitor</td>\n",
       "      <td>1200.00</td>\n",
       "    </tr>\n",
       "    <tr>\n",
       "      <th>2</th>\n",
       "      <td>Phone</td>\n",
       "      <td>3250.00</td>\n",
       "    </tr>\n",
       "    <tr>\n",
       "      <th>3</th>\n",
       "      <td>Tablet</td>\n",
       "      <td>1200.75</td>\n",
       "    </tr>\n",
       "  </tbody>\n",
       "</table>\n",
       "</div>"
      ],
      "text/plain": [
       "   product  total_revenue\n",
       "0   Laptop        3701.00\n",
       "1  Monitor        1200.00\n",
       "2    Phone        3250.00\n",
       "3   Tablet        1200.75"
      ]
     },
     "execution_count": 92,
     "metadata": {},
     "output_type": "execute_result"
    }
   ],
   "source": [
    "# Query 2: Total revenue per product\n",
    "\n",
    "query_revenue_by_product = \"\"\"\n",
    "SELECT product, SUM(quantity * price) AS total_revenue\n",
    "FROM sales\n",
    "GROUP BY product\n",
    "\"\"\"\n",
    "pd.read_sql(query_revenue_by_product, conn)"
   ]
  },
  {
   "cell_type": "code",
   "execution_count": 93,
   "id": "43c58d58-c80a-48df-b277-7d4dab2aac67",
   "metadata": {},
   "outputs": [
    {
     "data": {
      "text/html": [
       "<div>\n",
       "<style scoped>\n",
       "    .dataframe tbody tr th:only-of-type {\n",
       "        vertical-align: middle;\n",
       "    }\n",
       "\n",
       "    .dataframe tbody tr th {\n",
       "        vertical-align: top;\n",
       "    }\n",
       "\n",
       "    .dataframe thead th {\n",
       "        text-align: right;\n",
       "    }\n",
       "</style>\n",
       "<table border=\"1\" class=\"dataframe\">\n",
       "  <thead>\n",
       "    <tr style=\"text-align: right;\">\n",
       "      <th></th>\n",
       "      <th>sale_id</th>\n",
       "      <th>product</th>\n",
       "      <th>quantity</th>\n",
       "      <th>price</th>\n",
       "      <th>sale_date</th>\n",
       "    </tr>\n",
       "  </thead>\n",
       "  <tbody>\n",
       "    <tr>\n",
       "      <th>0</th>\n",
       "      <td>3</td>\n",
       "      <td>Tablet</td>\n",
       "      <td>3</td>\n",
       "      <td>400.25</td>\n",
       "      <td>2024-01-17</td>\n",
       "    </tr>\n",
       "    <tr>\n",
       "      <th>1</th>\n",
       "      <td>4</td>\n",
       "      <td>Laptop</td>\n",
       "      <td>1</td>\n",
       "      <td>1300.00</td>\n",
       "      <td>2024-01-18</td>\n",
       "    </tr>\n",
       "    <tr>\n",
       "      <th>2</th>\n",
       "      <td>5</td>\n",
       "      <td>Monitor</td>\n",
       "      <td>4</td>\n",
       "      <td>300.00</td>\n",
       "      <td>2024-01-19</td>\n",
       "    </tr>\n",
       "  </tbody>\n",
       "</table>\n",
       "</div>"
      ],
      "text/plain": [
       "   sale_id  product  quantity    price   sale_date\n",
       "0        3   Tablet         3   400.25  2024-01-17\n",
       "1        4   Laptop         1  1300.00  2024-01-18\n",
       "2        5  Monitor         4   300.00  2024-01-19"
      ]
     },
     "execution_count": 93,
     "metadata": {},
     "output_type": "execute_result"
    }
   ],
   "source": [
    "# Query 3: Sales after a specific date\n",
    "\n",
    "query_sales_after_date = \"\"\"\n",
    "SELECT * FROM sales\n",
    "WHERE sale_date > '2024-01-16'\n",
    "\"\"\"\n",
    "pd.read_sql(query_sales_after_date, conn)"
   ]
  },
  {
   "cell_type": "code",
   "execution_count": 94,
   "id": "b1ba6a14-ee97-4648-bd43-1c3d89de8746",
   "metadata": {},
   "outputs": [
    {
     "data": {
      "text/html": [
       "<div>\n",
       "<style scoped>\n",
       "    .dataframe tbody tr th:only-of-type {\n",
       "        vertical-align: middle;\n",
       "    }\n",
       "\n",
       "    .dataframe tbody tr th {\n",
       "        vertical-align: top;\n",
       "    }\n",
       "\n",
       "    .dataframe thead th {\n",
       "        text-align: right;\n",
       "    }\n",
       "</style>\n",
       "<table border=\"1\" class=\"dataframe\">\n",
       "  <thead>\n",
       "    <tr style=\"text-align: right;\">\n",
       "      <th></th>\n",
       "      <th>product</th>\n",
       "      <th>total_quantity</th>\n",
       "    </tr>\n",
       "  </thead>\n",
       "  <tbody>\n",
       "    <tr>\n",
       "      <th>0</th>\n",
       "      <td>Laptop</td>\n",
       "      <td>3</td>\n",
       "    </tr>\n",
       "    <tr>\n",
       "      <th>1</th>\n",
       "      <td>Monitor</td>\n",
       "      <td>4</td>\n",
       "    </tr>\n",
       "    <tr>\n",
       "      <th>2</th>\n",
       "      <td>Phone</td>\n",
       "      <td>5</td>\n",
       "    </tr>\n",
       "    <tr>\n",
       "      <th>3</th>\n",
       "      <td>Tablet</td>\n",
       "      <td>3</td>\n",
       "    </tr>\n",
       "  </tbody>\n",
       "</table>\n",
       "</div>"
      ],
      "text/plain": [
       "   product  total_quantity\n",
       "0   Laptop               3\n",
       "1  Monitor               4\n",
       "2    Phone               5\n",
       "3   Tablet               3"
      ]
     },
     "execution_count": 94,
     "metadata": {},
     "output_type": "execute_result"
    }
   ],
   "source": [
    "# Query 4: Total quantity sold for each product\n",
    "\n",
    "query_products_quantity = \"\"\"\n",
    "SELECT product, SUM(quantity) AS total_quantity\n",
    "FROM sales\n",
    "GROUP BY product\n",
    "\"\"\"\n",
    "pd.read_sql(query_products_quantity, conn)"
   ]
  },
  {
   "cell_type": "code",
   "execution_count": 95,
   "id": "9c59259a-eb18-4f6d-9b88-a2e24591a7d3",
   "metadata": {},
   "outputs": [
    {
     "data": {
      "image/png": "[encoded data removed]",
      "text/plain": [
       "<Figure size 600x400 with 1 Axes>"
      ]
     },
     "metadata": {},
     "output_type": "display_data"
    }
   ],
   "source": [
    "# Visualizing the total quantity sold per product\n",
    "\n",
    "query_products = \"\"\"\n",
    "SELECT product, SUM(quantity) AS total_quantity\n",
    "FROM sales\n",
    "GROUP BY product\n",
    "\"\"\"\n",
    "df_products = pd.read_sql(query_products, conn)\n",
    "\n",
    "# Visualize\n",
    "plt.figure(figsize=(6, 4))\n",
    "sns.barplot(data=df_products, x=\"product\", y=\"total_quantity\", hue=\"product\", palette=\"Set2\", legend=False)\n",
    "plt.title(\"Total Quantity Sold by Product\")\n",
    "plt.xlabel(\"Product\")\n",
    "plt.ylabel(\"Quantity\")\n",
    "plt.tight_layout()\n",
    "plt.show()"
   ]
  },
  {
   "cell_type": "code",
   "execution_count": 96,
   "id": "6315b316-0e1f-4c53-83cc-c4df241cf416",
   "metadata": {},
   "outputs": [
    {
     "data": {
      "text/plain": [
       "<sqlite3.Cursor at 0x1a93ea80140>"
      ]
     },
     "execution_count": 96,
     "metadata": {},
     "output_type": "execute_result"
    }
   ],
   "source": [
    "# Adding another Table to practice JOINs\n",
    "# Create customers table\n",
    "\n",
    "cursor.execute('''\n",
    "CREATE TABLE customers (\n",
    "    customer_id INTEGER PRIMARY KEY,\n",
    "    name TEXT,\n",
    "    city TEXT,\n",
    "    country TEXT\n",
    ")\n",
    "''')\n",
    "\n",
    "# Insert sample customers data\n",
    "customers_data = [\n",
    "    (1, 'John Smith', 'New York', 'USA'),\n",
    "    (2, 'Maria Garcia', 'Madrid', 'Spain'),\n",
    "    (3, 'David Chen', 'Toronto', 'Canada'),\n",
    "    (4, 'Sarah Johnson', 'London', 'UK'),\n",
    "    (5, 'Ahmed Hassan', 'Cairo', 'Egypt')\n",
    "]\n",
    "\n",
    "cursor.executemany('''\n",
    "INSERT INTO customers (customer_id, name, city, country)\n",
    "VALUES (?, ?, ?, ?)\n",
    "''', customers_data)"
   ]
  },
  {
   "cell_type": "code",
   "execution_count": 97,
   "id": "de5c894c-ba97-4fe6-9060-1a19da780d73",
   "metadata": {},
   "outputs": [
    {
     "data": {
      "text/html": [
       "<div>\n",
       "<style scoped>\n",
       "    .dataframe tbody tr th:only-of-type {\n",
       "        vertical-align: middle;\n",
       "    }\n",
       "\n",
       "    .dataframe tbody tr th {\n",
       "        vertical-align: top;\n",
       "    }\n",
       "\n",
       "    .dataframe thead th {\n",
       "        text-align: right;\n",
       "    }\n",
       "</style>\n",
       "<table border=\"1\" class=\"dataframe\">\n",
       "  <thead>\n",
       "    <tr style=\"text-align: right;\">\n",
       "      <th></th>\n",
       "      <th>customer_id</th>\n",
       "      <th>name</th>\n",
       "      <th>city</th>\n",
       "      <th>country</th>\n",
       "    </tr>\n",
       "  </thead>\n",
       "  <tbody>\n",
       "    <tr>\n",
       "      <th>0</th>\n",
       "      <td>1</td>\n",
       "      <td>John Smith</td>\n",
       "      <td>New York</td>\n",
       "      <td>USA</td>\n",
       "    </tr>\n",
       "    <tr>\n",
       "      <th>1</th>\n",
       "      <td>2</td>\n",
       "      <td>Maria Garcia</td>\n",
       "      <td>Madrid</td>\n",
       "      <td>Spain</td>\n",
       "    </tr>\n",
       "    <tr>\n",
       "      <th>2</th>\n",
       "      <td>3</td>\n",
       "      <td>David Chen</td>\n",
       "      <td>Toronto</td>\n",
       "      <td>Canada</td>\n",
       "    </tr>\n",
       "    <tr>\n",
       "      <th>3</th>\n",
       "      <td>4</td>\n",
       "      <td>Sarah Johnson</td>\n",
       "      <td>London</td>\n",
       "      <td>UK</td>\n",
       "    </tr>\n",
       "    <tr>\n",
       "      <th>4</th>\n",
       "      <td>5</td>\n",
       "      <td>Ahmed Hassan</td>\n",
       "      <td>Cairo</td>\n",
       "      <td>Egypt</td>\n",
       "    </tr>\n",
       "  </tbody>\n",
       "</table>\n",
       "</div>"
      ],
      "text/plain": [
       "   customer_id           name      city country\n",
       "0            1     John Smith  New York     USA\n",
       "1            2   Maria Garcia    Madrid   Spain\n",
       "2            3     David Chen   Toronto  Canada\n",
       "3            4  Sarah Johnson    London      UK\n",
       "4            5   Ahmed Hassan     Cairo   Egypt"
      ]
     },
     "execution_count": 97,
     "metadata": {},
     "output_type": "execute_result"
    }
   ],
   "source": [
    "# Query 5: Select all customer records\n",
    "\n",
    "query_all_customers = \"SELECT * FROM customers\"\n",
    "pd.read_sql(query_all_customers, conn)"
   ]
  },
  {
   "cell_type": "code",
   "execution_count": 98,
   "id": "db19a780-9804-4a9d-b020-442c84c72e60",
   "metadata": {},
   "outputs": [],
   "source": [
    "# Check if customer_id column exists before adding it\n",
    "try:\n",
    "    # Add customer_id to the existing sales table\n",
    "    cursor.execute('ALTER TABLE sales ADD COLUMN customer_id INTEGER')\n",
    "except:\n",
    "    # Column already exists, continue with the updates\n",
    "    pass\n",
    "\n",
    "# Update sales records with customer_ids\n",
    "updates = [\n",
    "    (1, 1),  # sale_id 1 -> John\n",
    "    (2, 2),  # sale_id 2 -> Maria\n",
    "    (3, 3),  # sale_id 3 -> David\n",
    "    (4, 1),  # sale_id 4 -> John again\n",
    "    (5, 4),  # sale_id 5 -> Sarah\n",
    "]\n",
    "\n",
    "for sale_id, customer_id in updates:\n",
    "    cursor.execute('UPDATE sales SET customer_id = ? WHERE sale_id = ?', (customer_id, sale_id))\n",
    "\n",
    "conn.commit()"
   ]
  },
  {
   "cell_type": "code",
   "execution_count": 99,
   "id": "509c4040-7969-4289-9fe6-e8735dc54ad8",
   "metadata": {},
   "outputs": [
    {
     "name": "stdout",
     "output_type": "stream",
     "text": [
      "Sales with Customer Information:\n",
      "   sale_id  customer_name country  product  quantity    price\n",
      "0        1     John Smith     USA   Laptop         2  1200.50\n",
      "1        2   Maria Garcia   Spain    Phone         5   650.00\n",
      "2        3     David Chen  Canada   Tablet         3   400.25\n",
      "3        4     John Smith     USA   Laptop         1  1300.00\n",
      "4        5  Sarah Johnson      UK  Monitor         4   300.00\n"
     ]
    }
   ],
   "source": [
    "query_with_customers = \"\"\"\n",
    "SELECT s.sale_id, c.name AS customer_name, c.country, s.product, s.quantity, s.price\n",
    "FROM sales s\n",
    "INNER JOIN customers c ON s.customer_id = c.customer_id\n",
    "\"\"\"\n",
    "df_sales_customers = pd.read_sql(query_with_customers, conn)\n",
    "print(\"Sales with Customer Information:\")\n",
    "print(df_sales_customers)\n"
   ]
  },
  {
   "cell_type": "code",
   "execution_count": 100,
   "id": "e3707d35-69c7-4052-9f7b-d74c31806932",
   "metadata": {},
   "outputs": [
    {
     "name": "stdout",
     "output_type": "stream",
     "text": [
      "Total Revenue by Country:\n",
      "  country  total_revenue\n",
      "0  Canada        1200.75\n",
      "1   Spain        3250.00\n",
      "2      UK        1200.00\n",
      "3     USA        3701.00\n"
     ]
    }
   ],
   "source": [
    "# Total Revenue by Country\n",
    "\n",
    "query_country = \"\"\"\n",
    "SELECT c.country, SUM(s.quantity * s.price) AS total_revenue\n",
    "FROM sales s\n",
    "INNER JOIN customers c ON s.customer_id = c.customer_id\n",
    "GROUP BY c.country\n",
    "\"\"\"\n",
    "df_country = pd.read_sql(query_country, conn)\n",
    "\n",
    "# Print the results\n",
    "print(\"Total Revenue by Country:\")\n",
    "print(df_country)"
   ]
  },
  {
   "cell_type": "code",
   "execution_count": 101,
   "id": "6ddb6e6f-64e5-41ef-bf1d-3eabf372da7b",
   "metadata": {},
   "outputs": [
    {
     "data": {
      "image/png": "[encoded data removed]",
      "text/plain": [
       "<Figure size 600x400 with 1 Axes>"
      ]
     },
     "metadata": {},
     "output_type": "display_data"
    }
   ],
   "source": [
    "# Visualize the Total Revenue by Country\n",
    "\n",
    "plt.figure(figsize=(6, 4))\n",
    "sns.barplot(data=df_country, x=\"country\", y=\"total_revenue\", hue=\"country\", palette=\"Set3\", legend=False)\n",
    "plt.title(\"Total Revenue by Country\")\n",
    "plt.xlabel(\"Country\")\n",
    "plt.ylabel(\"Revenue ($)\")\n",
    "plt.xticks(rotation=0)\n",
    "plt.tight_layout()\n",
    "plt.show()"
   ]
  }
 ],
 "metadata": {
  "kernelspec": {
   "display_name": "Python [conda env:base] *",
   "language": "python",
   "name": "conda-base-py"
  },
  "language_info": {
   "codemirror_mode": {
    "name": "ipython",
    "version": 3
   },
   "file_extension": ".py",
   "mimetype": "text/x-python",
   "name": "python",
   "nbconvert_exporter": "python",
   "pygments_lexer": "ipython3",
   "version": "3.12.7"
  }
 },
 "nbformat": 4,
 "nbformat_minor": 5
}
